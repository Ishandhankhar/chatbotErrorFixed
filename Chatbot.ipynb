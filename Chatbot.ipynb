{
 "cells": [
  {
   "cell_type": "code",
   "execution_count": 1,
   "id": "42ec98f9",
   "metadata": {},
   "outputs": [
    {
     "data": {
      "text/plain": [
       "'C:\\\\Users\\\\ishan\\\\Jupyter Notebook\\\\Python College\\\\Chatbot(farman)'"
      ]
     },
     "execution_count": 1,
     "metadata": {},
     "output_type": "execute_result"
    }
   ],
   "source": [
    "pwd()"
   ]
  },
  {
   "cell_type": "code",
   "execution_count": 2,
   "id": "19a81225",
   "metadata": {
    "collapsed": true
   },
   "outputs": [
    {
     "name": "stdout",
     "output_type": "stream",
     "text": [
      "Collecting beautifulsoup4==4.9.3\n",
      "  Using cached beautifulsoup4-4.9.3-py3-none-any.whl (115 kB)\n",
      "Requirement already satisfied: certifi==2021.5.30 in c:\\users\\ishan\\anaconda3\\lib\\site-packages (from -r requirements.txt (line 2)) (2021.5.30)\n",
      "Requirement already satisfied: charset-normalizer==2.0.3 in c:\\users\\ishan\\anaconda3\\lib\\site-packages (from -r requirements.txt (line 3)) (2.0.3)\n",
      "Collecting comtypes==1.1.10\n",
      "  Using cached comtypes-1.1.10-py3-none-any.whl\n",
      "Requirement already satisfied: idna==3.2 in c:\\users\\ishan\\anaconda3\\lib\\site-packages (from -r requirements.txt (line 5)) (3.2)\n",
      "Collecting MouseInfo==0.1.3\n",
      "  Using cached MouseInfo-0.1.3-py3-none-any.whl\n",
      "Requirement already satisfied: Pillow==8.3.1 in c:\\users\\ishan\\anaconda3\\lib\\site-packages (from -r requirements.txt (line 7)) (8.3.1)\n",
      "Requirement already satisfied: PyAudio==0.2.11 in c:\\users\\ishan\\anaconda3\\lib\\site-packages (from -r requirements.txt (line 8)) (0.2.11)\n",
      "Collecting PyAutoGUI==0.9.53\n",
      "  Using cached PyAutoGUI-0.9.53-py3-none-any.whl\n",
      "Note: you may need to restart the kernel to use updated packages.Collecting PyGetWindow==0.0.9\n",
      "  Using cached PyGetWindow-0.0.9-py3-none-any.whl\n",
      "Collecting pyjokes==0.6.0\n",
      "  Using cached pyjokes-0.6.0-py2.py3-none-any.whl (26 kB)\n",
      "Collecting PyMsgBox==1.0.9\n",
      "  Using cached PyMsgBox-1.0.9-py3-none-any.whl\n",
      "Requirement already satisfied: pyperclip==1.8.2 in c:\\users\\ishan\\anaconda3\\lib\\site-packages (from -r requirements.txt (line 13)) (1.8.2)\n",
      "\n"
     ]
    },
    {
     "name": "stderr",
     "output_type": "stream",
     "text": [
      "ERROR: Could not install packages due to an OSError: [WinError 5] Access is denied: 'C:\\\\Users\\\\ishan\\\\anaconda3\\\\Lib\\\\site-packages\\\\pywin32_system32\\\\pywintypes38.dll'\n",
      "Consider using the `--user` option or check the permissions.\n",
      "\n"
     ]
    },
    {
     "name": "stdout",
     "output_type": "stream",
     "text": [
      "Collecting pypiwin32==223\n",
      "  Using cached pypiwin32-223-py3-none-any.whl (1.7 kB)\n",
      "Requirement already satisfied: PyRect==0.1.4 in c:\\users\\ishan\\anaconda3\\lib\\site-packages (from -r requirements.txt (line 15)) (0.1.4)\n",
      "Collecting PyScreeze==0.1.27\n",
      "  Using cached PyScreeze-0.1.27-py3-none-any.whl\n",
      "Collecting pyttsx3==2.90\n",
      "  Using cached pyttsx3-2.90-py3-none-any.whl (39 kB)\n",
      "Collecting PyTweening==1.0.3\n",
      "  Using cached PyTweening-1.0.3-py3-none-any.whl\n",
      "Collecting pywhatkit==5.0\n",
      "  Using cached pywhatkit-5.0-py3-none-any.whl (12 kB)\n",
      "Collecting pywin32==301\n",
      "  Using cached pywin32-301-cp38-cp38-win_amd64.whl (9.3 MB)\n",
      "Requirement already satisfied: requests==2.26.0 in c:\\users\\ishan\\anaconda3\\lib\\site-packages (from -r requirements.txt (line 21)) (2.26.0)\n",
      "Requirement already satisfied: soupsieve==2.2.1 in c:\\users\\ishan\\anaconda3\\lib\\site-packages (from -r requirements.txt (line 22)) (2.2.1)\n",
      "Requirement already satisfied: SpeechRecognition==3.8.1 in c:\\users\\ishan\\anaconda3\\lib\\site-packages (from -r requirements.txt (line 23)) (3.8.1)\n",
      "Requirement already satisfied: urllib3==1.26.6 in c:\\users\\ishan\\anaconda3\\lib\\site-packages (from -r requirements.txt (line 24)) (1.26.6)\n",
      "Collecting wikipedia==1.4.0\n",
      "  Using cached wikipedia-1.4.0-py3-none-any.whl\n",
      "Installing collected packages: pywin32, PyTweening, PyScreeze, PyMsgBox, PyGetWindow, MouseInfo, beautifulsoup4, wikipedia, pypiwin32, PyAutoGUI, comtypes, pywhatkit, pyttsx3, pyjokes\n",
      "  Attempting uninstall: pywin32\n",
      "    Found existing installation: pywin32 227\n",
      "    Uninstalling pywin32-227:\n",
      "      Successfully uninstalled pywin32-227\n",
      "  Rolling back uninstall of pywin32\n",
      "  Moving to c:\\users\\ishan\\anaconda3\\lib\\site-packages\\__pycache__\\pythoncom.cpython-38.pyc\n",
      "   from C:\\Users\\ishan\\AppData\\Local\\Temp\\pip-uninstall-4nwf97c_\\pythoncom.cpython-38.pyc\n",
      "  Moving to c:\\users\\ishan\\anaconda3\\lib\\site-packages\\adodbapi\n",
      "   from C:\\Users\\ishan\\anaconda3\\Lib\\site-packages\\~dodbapi\n",
      "  Moving to c:\\users\\ishan\\anaconda3\\lib\\site-packages\\isapi\n",
      "   from C:\\Users\\ishan\\anaconda3\\Lib\\site-packages\\~sapi\n",
      "  Moving to c:\\users\\ishan\\anaconda3\\lib\\site-packages\\pythoncom.py\n",
      "   from C:\\Users\\ishan\\AppData\\Local\\Temp\\pip-uninstall-vuiudy7l\\pythoncom.py\n",
      "  Moving to c:\\users\\ishan\\anaconda3\\lib\\site-packages\\pythonwin\n",
      "   from C:\\Users\\ishan\\anaconda3\\Lib\\site-packages\\~ythonwin\n",
      "  Moving to c:\\users\\ishan\\anaconda3\\lib\\site-packages\\pywin32-227-py3.8.egg-info\n",
      "   from C:\\Users\\ishan\\anaconda3\\Lib\\site-packages\\~ywin32-227-py3.8.egg-info\n",
      "  Moving to c:\\users\\ishan\\anaconda3\\lib\\site-packages\\win32\\lib\\\n",
      "   from C:\\Users\\ishan\\anaconda3\\Lib\\site-packages\\win32\\~ib\n",
      "  Moving to c:\\users\\ishan\\anaconda3\\lib\\site-packages\\win32com\n",
      "   from C:\\Users\\ishan\\anaconda3\\Lib\\site-packages\\~in32com\n",
      "  Moving to c:\\users\\ishan\\anaconda3\\lib\\site-packages\\win32comext\n",
      "   from C:\\Users\\ishan\\anaconda3\\Lib\\site-packages\\~in32comext\n"
     ]
    }
   ],
   "source": [
    "pip install -r requirements.txt"
   ]
  },
  {
   "cell_type": "code",
   "execution_count": 10,
   "id": "2ebc1c6c",
   "metadata": {
    "collapsed": true
   },
   "outputs": [
    {
     "name": "stdout",
     "output_type": "stream",
     "text": [
      "Requirement already satisfied: pip in c:\\users\\ishan\\anaconda3\\lib\\site-packages (21.1.2)\n",
      "Collecting pip\n",
      "  Downloading pip-21.2.2-py3-none-any.whl (1.6 MB)\n",
      "Installing collected packages: pip\n",
      "  Attempting uninstall: pip\n",
      "    Found existing installation: pip 21.1.2\n",
      "    Uninstalling pip-21.1.2:\n",
      "      Successfully uninstalled pip-21.1.2\n",
      "Successfully installed pip-21.2.2\n"
     ]
    }
   ],
   "source": [
    "!c:\\users\\ishan\\anaconda3\\python.exe -m pip install --upgrade pip"
   ]
  },
  {
   "cell_type": "code",
   "execution_count": 3,
   "id": "1967e17d",
   "metadata": {
    "collapsed": true
   },
   "outputs": [
    {
     "name": "stdout",
     "output_type": "stream",
     "text": [
      "Requirement already satisfied: pipwin in c:\\users\\ishan\\anaconda3\\lib\\site-packages (0.5.1)\n",
      "Requirement already satisfied: six in c:\\users\\ishan\\anaconda3\\lib\\site-packages (from pipwin) (1.15.0)\n",
      "Requirement already satisfied: pyprind in c:\\users\\ishan\\anaconda3\\lib\\site-packages (from pipwin) (2.11.3)\n",
      "Requirement already satisfied: beautifulsoup4>=4.9.0 in c:\\users\\ishan\\anaconda3\\lib\\site-packages (from pipwin) (4.9.1)\n",
      "Requirement already satisfied: pySmartDL>=1.3.1 in c:\\users\\ishan\\anaconda3\\lib\\site-packages (from pipwin) (1.3.4)\n",
      "Requirement already satisfied: packaging in c:\\users\\ishan\\anaconda3\\lib\\site-packages (from pipwin) (20.9)\n",
      "Requirement already satisfied: js2py in c:\\users\\ishan\\anaconda3\\lib\\site-packages (from pipwin) (0.71)\n",
      "Requirement already satisfied: requests in c:\\users\\ishan\\anaconda3\\lib\\site-packages (from pipwin) (2.26.0)\n",
      "Requirement already satisfied: docopt in c:\\users\\ishan\\anaconda3\\lib\\site-packages (from pipwin) (0.6.2)\n",
      "Requirement already satisfied: soupsieve>1.2 in c:\\users\\ishan\\anaconda3\\lib\\site-packages (from beautifulsoup4>=4.9.0->pipwin) (2.2.1)\n",
      "Requirement already satisfied: tzlocal>=1.2 in c:\\users\\ishan\\anaconda3\\lib\\site-packages (from js2py->pipwin) (2.1)\n",
      "Requirement already satisfied: pyjsparser>=2.5.1 in c:\\users\\ishan\\anaconda3\\lib\\site-packages (from js2py->pipwin) (2.7.1)\n",
      "Requirement already satisfied: pytz in c:\\users\\ishan\\anaconda3\\lib\\site-packages (from tzlocal>=1.2->js2py->pipwin) (2021.1)\n",
      "Requirement already satisfied: pyparsing>=2.0.2 in c:\\users\\ishan\\anaconda3\\lib\\site-packages (from packaging->pipwin) (2.4.7)\n",
      "Requirement already satisfied: certifi>=2017.4.17 in c:\\users\\ishan\\anaconda3\\lib\\site-packages (from requests->pipwin) (2021.5.30)\n",
      "Requirement already satisfied: charset-normalizer~=2.0.0 in c:\\users\\ishan\\anaconda3\\lib\\site-packages (from requests->pipwin) (2.0.3)\n",
      "Requirement already satisfied: urllib3<1.27,>=1.21.1 in c:\\users\\ishan\\anaconda3\\lib\\site-packages (from requests->pipwin) (1.26.6)\n",
      "Requirement already satisfied: idna<4,>=2.5 in c:\\users\\ishan\\anaconda3\\lib\\site-packages (from requests->pipwin) (3.2)\n"
     ]
    }
   ],
   "source": [
    "!pip install pipwin"
   ]
  },
  {
   "cell_type": "code",
   "execution_count": 4,
   "id": "cbd07cae",
   "metadata": {
    "collapsed": true
   },
   "outputs": [
    {
     "name": "stdout",
     "output_type": "stream",
     "text": [
      "Package `pyaudio` found in cache\n",
      "Downloading package . . .\n",
      "https://download.lfd.uci.edu/pythonlibs/y2rycu7g/PyAudio-0.2.11-cp38-cp38-win_amd64.whl\n",
      "PyAudio-0.2.11-cp38-cp38-win_amd64.whl\n",
      "[*] 0 bytes / 110 kB @ 0 bytes/s [------------------] [0.0%, 0s left]   [*] 0 bytes / 110 kB @ 0 bytes/s [------------------] [0.0%, 0s left]   [*] 0 bytes / 110 kB @ 0 bytes/s [------------------] [0.0%, 0s left]   [*] 0 bytes / 110 kB @ 0 bytes/s [------------------] [0.0%, 0s left]   [*] 0 bytes / 110 kB @ 0 bytes/s [------------------] [0.0%, 0s left]   [*] 0 bytes / 110 kB @ 0 bytes/s [------------------] [0.0%, 0s left]   [*] 0 bytes / 110 kB @ 0 bytes/s [------------------] [0.0%, 0s left]   [*] 0 bytes / 110 kB @ 0 bytes/s [------------------] [0.0%, 0s left]   [*] 0 bytes / 110 kB @ 0 bytes/s [------------------] [0.0%, 0s left]   [*] 0 bytes / 110 kB @ 0 bytes/s [------------------] [0.0%, 0s left]   [*] 0 bytes / 110 kB @ 0 bytes/s [------------------] [0.0%, 0s left]   [*] 0 bytes / 110 kB @ 0 bytes/s [------------------] [0.0%, 0s left]   [*] 0 bytes / 110 kB @ 0 bytes/s [------------------] [0.0%, 0s left]   [*] 0 bytes / 110 kB @ 0 bytes/s [------------------] [0.0%, 0s left]   [*] 8 kB / 110 kB @ 5 kB/s [#-----------------] [7.3%, 0s left]   [*] 8 kB / 110 kB @ 5 kB/s [#-----------------] [7.3%, 0s left]   [*] 8 kB / 110 kB @ 5 kB/s [#-----------------] [7.3%, 0s left]   [*] 24 kB / 110 kB @ 13 kB/s [###---------------] [21.8%, 0s left]  [*] 24 kB / 110 kB @ 13 kB/s [###---------------] [21.8%, 0s left]  [*] 24 kB / 110 kB @ 12 kB/s [###---------------] [21.8%, 0s left]  [*] 40 kB / 110 kB @ 19 kB/s [######------------] [36.4%, 0s left]  [*] 40 kB / 110 kB @ 18 kB/s [######------------] [36.4%, 0s left]  [*] 40 kB / 110 kB @ 17 kB/s [######------------] [36.4%, 0s left]  [*] 40 kB / 110 kB @ 17 kB/s [######------------] [36.4%, 0s left]  [*] 40 kB / 110 kB @ 16 kB/s [######------------] [36.4%, 0s left]  [*] 56 kB / 110 kB @ 22 kB/s [#########---------] [51.0%, 0s left]  [*] 56 kB / 110 kB @ 21 kB/s [#########---------] [51.0%, 0s left]  [*] 56 kB / 110 kB @ 20 kB/s [#########---------] [51.0%, 0s left]  [*] 56 kB / 110 kB @ 19 kB/s [#########---------] [51.0%, 0s left]  [*] 56 kB / 110 kB @ 19 kB/s [#########---------] [51.0%, 0s left]  [*] 56 kB / 110 kB @ 19 kB/s [#########---------] [51.0%, 0s left]  [*] 72 kB / 110 kB @ 24 kB/s [###########-------] [65.5%, 0s left]  [*] 72 kB / 110 kB @ 24 kB/s [###########-------] [65.5%, 0s left]  [*] 72 kB / 110 kB @ 24 kB/s [###########-------] [65.5%, 0s left]  [*] 88 kB / 110 kB @ 29 kB/s [##############----] [80.1%, 0s left]  [*] 88 kB / 110 kB @ 29 kB/s [##############----] [80.1%, 0s left]  [*] 88 kB / 110 kB @ 29 kB/s [##############----] [80.1%, 0s left]  [*] 88 kB / 110 kB @ 29 kB/s [##############----] [80.1%, 0s left]  [*] 88 kB / 110 kB @ 29 kB/s [##############----] [80.1%, 0s left]  Processing c:\\users\\ishan\\pipwin\\pyaudio-0.2.11-cp38-cp38-win_amd64.whl\n",
      "PyAudio is already installed with the same version as the provided wheel. Use --force-reinstall to force an installation of the wheel.\n",
      "[*] 110 kB / 110 kB @ 29 kB/s [##################] [100%, 0s left]    \n"
     ]
    }
   ],
   "source": [
    "!pipwin install pyaudio"
   ]
  },
  {
   "cell_type": "code",
   "execution_count": 5,
   "id": "a538c5ad",
   "metadata": {},
   "outputs": [
    {
     "name": "stdout",
     "output_type": "stream",
     "text": [
      "Requirement already satisfied: SpeechRecognition in c:\\users\\ishan\\anaconda3\\lib\\site-packages (3.8.1)\n"
     ]
    }
   ],
   "source": [
    "!pip install SpeechRecognition"
   ]
  },
  {
   "cell_type": "code",
   "execution_count": 2,
   "id": "d2b733b0",
   "metadata": {},
   "outputs": [
    {
     "name": "stdout",
     "output_type": "stream",
     "text": [
      "Collecting pyttsx3\n",
      "  Using cached pyttsx3-2.90-py3-none-any.whl (39 kB)\n",
      "Requirement already satisfied: comtypes in c:\\users\\ishan\\anaconda3\\lib\\site-packages (from pyttsx3) (1.1.9)\n",
      "Requirement already satisfied: pywin32 in c:\\users\\ishan\\anaconda3\\lib\\site-packages (from pyttsx3) (227)\n",
      "Collecting pypiwin32\n",
      "  Using cached pypiwin32-223-py3-none-any.whl (1.7 kB)\n",
      "Installing collected packages: pypiwin32, pyttsx3\n",
      "Successfully installed pypiwin32-223 pyttsx3-2.90\n"
     ]
    }
   ],
   "source": [
    "!pip install pyttsx3"
   ]
  },
  {
   "cell_type": "code",
   "execution_count": 4,
   "id": "c6a11413",
   "metadata": {
    "collapsed": true
   },
   "outputs": [
    {
     "name": "stdout",
     "output_type": "stream",
     "text": [
      "Collecting pywhatkit\n",
      "  Using cached pywhatkit-5.0-py3-none-any.whl (12 kB)\n",
      "Collecting pyautogui\n",
      "  Using cached PyAutoGUI-0.9.53-py3-none-any.whl\n",
      "Requirement already satisfied: Pillow in c:\\users\\ishan\\anaconda3\\lib\\site-packages (from pywhatkit) (8.3.1)\n",
      "Requirement already satisfied: requests in c:\\users\\ishan\\anaconda3\\lib\\site-packages (from pywhatkit) (2.26.0)\n",
      "Collecting wikipedia\n",
      "  Using cached wikipedia-1.4.0-py3-none-any.whl\n",
      "Collecting pyscreeze>=0.1.21\n",
      "  Using cached PyScreeze-0.1.27-py3-none-any.whl\n",
      "Collecting pygetwindow>=0.0.5\n",
      "  Using cached PyGetWindow-0.0.9-py3-none-any.whl\n",
      "Collecting pymsgbox\n",
      "  Using cached PyMsgBox-1.0.9-py3-none-any.whl\n",
      "Collecting mouseinfo\n",
      "  Using cached MouseInfo-0.1.3-py3-none-any.whl\n",
      "Collecting PyTweening>=1.0.1\n",
      "  Using cached PyTweening-1.0.3-py3-none-any.whl\n",
      "Requirement already satisfied: pyrect in c:\\users\\ishan\\anaconda3\\lib\\site-packages (from pygetwindow>=0.0.5->pyautogui->pywhatkit) (0.1.4)\n",
      "Requirement already satisfied: pyperclip in c:\\users\\ishan\\anaconda3\\lib\\site-packages (from mouseinfo->pyautogui->pywhatkit) (1.8.2)\n",
      "Requirement already satisfied: idna<4,>=2.5 in c:\\users\\ishan\\anaconda3\\lib\\site-packages (from requests->pywhatkit) (3.2)\n",
      "Requirement already satisfied: certifi>=2017.4.17 in c:\\users\\ishan\\anaconda3\\lib\\site-packages (from requests->pywhatkit) (2021.5.30)\n",
      "Requirement already satisfied: urllib3<1.27,>=1.21.1 in c:\\users\\ishan\\anaconda3\\lib\\site-packages (from requests->pywhatkit) (1.26.6)\n",
      "Requirement already satisfied: charset-normalizer~=2.0.0 in c:\\users\\ishan\\anaconda3\\lib\\site-packages (from requests->pywhatkit) (2.0.3)\n",
      "Requirement already satisfied: beautifulsoup4 in c:\\users\\ishan\\anaconda3\\lib\\site-packages (from wikipedia->pywhatkit) (4.9.1)\n",
      "Requirement already satisfied: soupsieve>1.2 in c:\\users\\ishan\\anaconda3\\lib\\site-packages (from beautifulsoup4->wikipedia->pywhatkit) (2.2.1)\n",
      "Installing collected packages: PyTweening, pyscreeze, pymsgbox, pygetwindow, mouseinfo, wikipedia, pyautogui, pywhatkit\n",
      "Successfully installed PyTweening-1.0.3 mouseinfo-0.1.3 pyautogui-0.9.53 pygetwindow-0.0.9 pymsgbox-1.0.9 pyscreeze-0.1.27 pywhatkit-5.0 wikipedia-1.4.0\n"
     ]
    }
   ],
   "source": [
    "!pip install pywhatkit"
   ]
  },
  {
   "cell_type": "code",
   "execution_count": 6,
   "id": "3aed0096",
   "metadata": {},
   "outputs": [
    {
     "name": "stdout",
     "output_type": "stream",
     "text": [
      "Collecting pyjokes\n",
      "  Using cached pyjokes-0.6.0-py2.py3-none-any.whl (26 kB)\n",
      "Installing collected packages: pyjokes\n",
      "Successfully installed pyjokes-0.6.0\n"
     ]
    }
   ],
   "source": [
    "!pip install pyjokes"
   ]
  },
  {
   "cell_type": "code",
   "execution_count": null,
   "id": "0d22c711",
   "metadata": {},
   "outputs": [
    {
     "name": "stdout",
     "output_type": "stream",
     "text": [
      "listening...\n"
     ]
    }
   ],
   "source": [
    "import speech_recognition as sr\n",
    "import pyttsx3\n",
    "import pywhatkit\n",
    "import datetime\n",
    "import wikipedia\n",
    "import pyjokes\n",
    "import pandas as pd\n",
    "\n",
    "listener = sr.Recognizer()\n",
    "engine = pyttsx3.init()\n",
    "engine.setProperty('rate', 165)\n",
    "voices = engine.getProperty('voices')\n",
    "df = pd.read_csv('database.csv')\n",
    "#engine.setProperty('voice', voices[1].id)\n",
    "\n",
    "\n",
    "def talk(text):\n",
    "    engine.say(text)\n",
    "    engine.runAndWait()\n",
    "\n",
    "\n",
    "def take_command():\n",
    "    try:\n",
    "        with sr.Microphone() as source:\n",
    "            print('listening...')\n",
    "            voice = listener.listen(source)\n",
    "            command = listener.recognize_google(voice)\n",
    "            command = command.lower()\n",
    "            if 'bank' in command:\n",
    "                command = command.replace('bank', '')\n",
    "                print(command)\n",
    "    except:\n",
    "        command='error'\n",
    "    return command\n",
    "\n",
    "\n",
    "def run_alexa():\n",
    "    command = take_command()\n",
    "    print(command)\n",
    "    if 'play' in command:\n",
    "        song = command.replace('play', '')\n",
    "        talk('playing ' + song)\n",
    "        pywhatkit.playonyt(song)\n",
    "    elif 'time' in command:\n",
    "        time = datetime.datetime.now().strftime('%I:%M %p')\n",
    "        print('Current time is ' + time)\n",
    "        talk('Current time is ' + time)\n",
    "    elif 'who is' in command:\n",
    "        person = command.replace('who is', '')\n",
    "        info = wikipedia.summary(person, 1)\n",
    "        print(info)\n",
    "        talk(info)\n",
    "    elif 'date' in command:\n",
    "        talk('sorry, I have a headache')\n",
    "    elif 'are you single' in command:\n",
    "        talk('I am in a relationship with wifi')\n",
    "    elif 'joke' in command:\n",
    "        talk(pyjokes.get_joke())\n",
    "    elif 'balance' in command:\n",
    "        talk('Please!, Enter you account number: ')\n",
    "        acc_entered = int(input('Please!, Enter you account number: '))\n",
    "        for i in range(0,len(df)):\n",
    "            if acc_entered == df.account[i]:\n",
    "                print(f'Welcome {df.name[i]}!')\n",
    "                talk(f'Welcome {df.name[i]}!')\n",
    "                print(f'Your cuurent account balance is {df.balance[i]} rupees')\n",
    "                talk(f'Your cuurent account balance is {df.balance[i]} rupees')\n",
    "            if i == len(df)-1:\n",
    "                print('Please check your Account number!')\n",
    "                talk('Please check your account number')\n",
    "    elif 'transaction' in command:\n",
    "        acc_entered = int(input('Please!, enter you account number: '))\n",
    "        talk('Please!, enter your account number: ')\n",
    "        for i in range(0,len(df)):\n",
    "            if acc_entered == df.account[i]:\n",
    "                print(f'Welcome {df.name[i]}!')\n",
    "                talk(f'Welcome {df.name[i]}!')\n",
    "                print('---------------Recent transaction---------------------')\n",
    "                print('---------details--------debit-----credit----------bal-')\n",
    "                print('     Home loan          12500                  1400000')\n",
    "                print('     Cheque no.420               100000        1500000')\n",
    "                talk('Your recent transaction are as follows')\n",
    "                break\n",
    "                #talk(f'Your current account balance is {df.balance[i]} rupees')\n",
    "            if i == len(df)-1:\n",
    "                print('Please, Check entered account number')\n",
    "                talk('Pleasec Check enetered account number')\n",
    "    else:\n",
    "        talk('Please repeat the command')\n",
    "\n",
    "\n",
    "while True:\n",
    " run_alexa()"
   ]
  },
  {
   "cell_type": "code",
   "execution_count": null,
   "id": "8a1b33af",
   "metadata": {},
   "outputs": [],
   "source": []
  }
 ],
 "metadata": {
  "kernelspec": {
   "display_name": "Python 3",
   "language": "python",
   "name": "python3"
  },
  "language_info": {
   "codemirror_mode": {
    "name": "ipython",
    "version": 3
   },
   "file_extension": ".py",
   "mimetype": "text/x-python",
   "name": "python",
   "nbconvert_exporter": "python",
   "pygments_lexer": "ipython3",
   "version": "3.8.8"
  }
 },
 "nbformat": 4,
 "nbformat_minor": 5
}
